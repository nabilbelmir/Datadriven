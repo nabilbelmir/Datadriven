{
  "cells": [
    {
      "cell_type": "markdown",
      "metadata": {
        "id": "CMpkjgG1N_tr"
      },
      "source": [
        "# Exercise 1: Principal Component Analysis\n",
        "\n",
        "The goal is to apply PCA to a couple of datasets and to understand the results.\n",
        "The code is written in Python, and it is run on Google Colab.\n",
        "\n",
        "## Google Colab\n",
        "\n",
        "Colab is a service that hosts Jupyter notebooks, which provides the computing resources (also GPUs). You don't need to install anything locally, because Colab provides a remote machine that will run your python code.\n",
        "Jupyter notebooks are files which support both text and code. The code runs in multiple cells, which is very convenient because it let us compartmentalize the script.\n",
        "\n",
        "## Python\n",
        "\n",
        "Python is a (very) high-level programming language, which is interpreted at run-time instead of being compiled. This means that we can run the code without needing to compile it first.\n",
        "Python is very popular in machine learning because it offers a huge number of libraries that we can use to build machine-learning and deep learning models. Also, it is a dynamically typed language, meaning that we do not need to define the type of variable before assignment.\n",
        "\n",
        "### A brief intro to Python"
      ]
    },
    {
      "cell_type": "code",
      "execution_count": 2,
      "metadata": {
        "colab": {
          "base_uri": "https://localhost:8080/"
        },
        "id": "4-VeNFUoN_tu",
        "outputId": "f7f91060-7e17-4a7e-b319-ed889f529700"
      },
      "outputs": [
        {
          "output_type": "stream",
          "name": "stdout",
          "text": [
            "<class 'float'>\n",
            "3.2\n"
          ]
        }
      ],
      "source": [
        "# create some variables\n",
        "a = 3.2 # this is a float\n",
        "b = 'test' # this is a string\n",
        "c = [1, 2, 3] # this is a list\n",
        "\n",
        "print(type(a))\n",
        "print(a)"
      ]
    },
    {
      "cell_type": "code",
      "execution_count": 4,
      "metadata": {
        "id": "C1Ls__3kN_tv",
        "outputId": "3c578649-bd5e-460a-9801-a1a3467f751f",
        "colab": {
          "base_uri": "https://localhost:8080/"
        }
      },
      "outputs": [
        {
          "output_type": "stream",
          "name": "stdout",
          "text": [
            "5471.543289057172\n"
          ]
        }
      ],
      "source": [
        "# do some math\n",
        "\n",
        "a = 3.2\n",
        "b = 7.4\n",
        "\n",
        "c = a * b # multiplication\n",
        "d = a/b # division\n",
        "e = a**b # exponentiation\n",
        "\n",
        "print(e)"
      ]
    },
    {
      "cell_type": "markdown",
      "metadata": {
        "id": "4kKZDMUwN_tw"
      },
      "source": [
        "## Numpy\n",
        "\n",
        "Everything that we do in machine learning is linear algebra (matrix multiplication). Numpy is a python library specialized for operations on arrays (vectors, matrices and N-dimensional tensors). Numpy is widely used, and it is pre-installed on Colab."
      ]
    },
    {
      "cell_type": "code",
      "execution_count": 9,
      "metadata": {
        "id": "HO4qrJsvN_tw",
        "outputId": "2a40a324-2cb3-4a4e-b05f-9c502035f53f",
        "colab": {
          "base_uri": "https://localhost:8080/"
        }
      },
      "outputs": [
        {
          "output_type": "stream",
          "name": "stdout",
          "text": [
            "[1.1 2.2 3.3 1. ]\n",
            "[[1.1 2.2]\n",
            " [3.3 4.4]]\n"
          ]
        }
      ],
      "source": [
        "# import the library\n",
        "import numpy as np\n",
        "\n",
        "# create a 1D array (vector)\n",
        "array1 = np.array([1.1, 2.2, 3.3])\n",
        "print(array1)\n",
        "\n",
        "# create a 2D array (matrix)\n",
        "array2 = np.array([[1.1, 2.2],\n",
        "                   [3.3, 4.4]])\n",
        "print(array2)"
      ]
    },
    {
      "cell_type": "code",
      "execution_count": 10,
      "metadata": {
        "id": "z-lqaaAFN_tx",
        "outputId": "87055b70-549c-49b7-aae7-94ae9bf9aa30",
        "colab": {
          "base_uri": "https://localhost:8080/"
        }
      },
      "outputs": [
        {
          "output_type": "stream",
          "name": "stdout",
          "text": [
            "(4,)\n",
            "(2, 2)\n"
          ]
        }
      ],
      "source": [
        "# check the shape of the arrays\n",
        "print(array1.shape)\n",
        "print(array2.shape)"
      ]
    },
    {
      "cell_type": "code",
      "execution_count": 11,
      "metadata": {
        "id": "wFOA1vTeN_tx",
        "outputId": "a8c87b4a-9d3c-4a3d-845e-21e4d0a350d2",
        "colab": {
          "base_uri": "https://localhost:8080/"
        }
      },
      "outputs": [
        {
          "output_type": "stream",
          "name": "stdout",
          "text": [
            "[[18.7  26.62]\n",
            " [21.34 30.8 ]\n",
            " [16.83 23.76]]\n"
          ]
        }
      ],
      "source": [
        "# perform some multiplications\n",
        "array3 = np.array([[2.3, 4.9],\n",
        "                  [3.2, 5.4],\n",
        "                  [1.8, 4.5]])\n",
        "\n",
        "result = array3 @ array2 # matrix multiplication\n",
        "print(result)"
      ]
    },
    {
      "cell_type": "code",
      "execution_count": 12,
      "metadata": {
        "id": "u9UxaduEN_ty",
        "outputId": "a4bcdf6b-b32f-40c2-fa8c-96cad8732dd2",
        "colab": {
          "base_uri": "https://localhost:8080/"
        }
      },
      "outputs": [
        {
          "output_type": "stream",
          "name": "stdout",
          "text": [
            "1.1\n",
            "[1.1 2.2 0.  1. ]\n",
            "4.5\n",
            "[2.3 3.2 1.8]\n"
          ]
        }
      ],
      "source": [
        "# access the value of the arrays or store values\n",
        "\n",
        "k1 = array1[0]\n",
        "print(k1)\n",
        "\n",
        "array1[2] = 0\n",
        "print(array1)\n",
        "\n",
        "k2 = array3[2, 1]\n",
        "print(k2)\n",
        "\n",
        "k3 = array3[:, 0]\n",
        "print(k3)"
      ]
    },
    {
      "cell_type": "markdown",
      "metadata": {
        "id": "yw1bGFRmN_ty"
      },
      "source": [
        "## Cycles and functions\n",
        "\n",
        "The command `for` is used to create a cycle, while the command `def` is used to define a function."
      ]
    },
    {
      "cell_type": "code",
      "execution_count": 13,
      "metadata": {
        "id": "lA9FIT5qN_tz",
        "outputId": "e5dec534-7aa0-46c4-a3ea-919cc1b4fea0",
        "colab": {
          "base_uri": "https://localhost:8080/"
        }
      },
      "outputs": [
        {
          "output_type": "stream",
          "name": "stdout",
          "text": [
            "0\n",
            "1\n",
            "2\n",
            "3\n",
            "4\n",
            "5\n",
            "6\n",
            "7\n",
            "8\n",
            "9\n"
          ]
        }
      ],
      "source": [
        "# For cycle\n",
        "for i in range(10):\n",
        "    print(i)"
      ]
    },
    {
      "cell_type": "code",
      "execution_count": 14,
      "metadata": {
        "id": "knr4pyM1N_tz",
        "outputId": "de9480db-f346-4425-f59f-d90881b89b4e",
        "colab": {
          "base_uri": "https://localhost:8080/"
        }
      },
      "outputs": [
        {
          "output_type": "stream",
          "name": "stdout",
          "text": [
            "30\n"
          ]
        }
      ],
      "source": [
        "# Define functions\n",
        "\n",
        "def multip(a, b):\n",
        "    temp = a*b\n",
        "\n",
        "    return temp\n",
        "\n",
        "a = 10\n",
        "b = 3\n",
        "\n",
        "print(multip(a, b))"
      ]
    },
    {
      "cell_type": "markdown",
      "metadata": {
        "id": "NLWvYM_IN_t0"
      },
      "source": [
        "## Matplotlib\n",
        "\n",
        "Another useful python library is Matplotlib, which is used to visualize the data. Like Numpy, Matplotlib is widely used and it is generally pre-installed."
      ]
    },
    {
      "cell_type": "code",
      "execution_count": 19,
      "metadata": {
        "id": "qH1Wbl4IN_t0",
        "outputId": "aca7cdd6-f9e4-46bb-9ca6-528d4e401c31",
        "colab": {
          "base_uri": "https://localhost:8080/",
          "height": 449
        }
      },
      "outputs": [
        {
          "output_type": "display_data",
          "data": {
            "text/plain": [
              "<Figure size 640x480 with 1 Axes>"
            ],
            "image/png": "[encoded data removed]"
          },
          "metadata": {}
        }
      ],
      "source": [
        "import matplotlib.pyplot as plt\n",
        "\n",
        "x = np.linspace(0, 6*np.pi, 100) # this is used to create an array from 0 to 6pi containing 100 points regularly spaced\n",
        "y = np.sin(x) # compute the sine of x\n",
        "\n",
        "plt.plot(x, y)\n",
        "plt.xlabel('x')\n",
        "plt.ylabel('y')\n",
        "plt.show()"
      ]
    },
    {
      "cell_type": "markdown",
      "metadata": {
        "id": "rtibJVTrN_t0"
      },
      "source": [
        "## Exercise 1: toy dataset\n",
        "\n",
        "We want to test PCA on a toy dataset. The dataset contains 2 variables $x$ and $y$. The second variable is a linear function of the first one, but it is corrupted with Gaussian noise. PCA should be able to identify the direction of maximum variance (the first PC) and relegate the noise in the last PC."
      ]
    },
    {
      "cell_type": "code",
      "execution_count": 35,
      "metadata": {
        "id": "V0-TpF7lN_t1",
        "outputId": "1caca6b3-4f92-4c32-c3c7-39f808fb74c1",
        "colab": {
          "base_uri": "https://localhost:8080/",
          "height": 449
        }
      },
      "outputs": [
        {
          "output_type": "display_data",
          "data": {
            "text/plain": [
              "<Figure size 640x480 with 1 Axes>"
            ],
            "image/png": "[encoded data removed]"
          },
          "metadata": {}
        }
      ],
      "source": [
        "# create the x and y variables\n",
        "\n",
        "n_points = 100\n",
        "n_variables = 2\n",
        "\n",
        "x = np.linspace(0, 5, n_points)\n",
        "y_true = 3.2 + 2.2*x\n",
        "\n",
        "rng = np.random.default_rng(121421321)\n",
        "noise = rng.normal(loc=0, scale=0.75, size=n_points)\n",
        "y_noise = y_true + noise\n",
        "\n",
        "plt.plot(x, y_true, c='r', ls='--', label='true')\n",
        "plt.scatter(x, y_noise, c='k', alpha=0.3, label='noisy')\n",
        "plt.xlabel('x')\n",
        "plt.ylabel('y')\n",
        "plt.legend()\n",
        "plt.show()"
      ]
    },
    {
      "cell_type": "code",
      "execution_count": 38,
      "metadata": {
        "id": "2l_h4WTJN_t1",
        "outputId": "30a0ef71-9a0f-4dec-b633-72fb215382ba",
        "colab": {
          "base_uri": "https://localhost:8080/"
        }
      },
      "outputs": [
        {
          "output_type": "stream",
          "name": "stdout",
          "text": [
            "(100, 2)\n"
          ]
        }
      ],
      "source": [
        "# create the dataset\n",
        "D = np.zeros((n_points, n_variables)) # empty matrix\n",
        "\n",
        "# this operation is called slicing and it is used to put or extract values from an array\n",
        "D[:, 0] = x # put x in the first column (0) of the array\n",
        "D[:, 1] = y_noise\n",
        "\n",
        "print(D.shape)\n"
      ]
    },
    {
      "cell_type": "markdown",
      "metadata": {
        "id": "9Bo32ltcN_t2"
      },
      "source": [
        "## PCA algorithm\n",
        "\n",
        "To find the PCs, we need to follow these steps:\n",
        "- Center and scale the dataset:\n",
        "\\begin{equation}\n",
        "\\mathbf{D}_0 = (\\mathbf{D} - \\mathbf{D}_{\\mu})\\mathbf{D}^{-1}_{\\sigma}\n",
        "\\end{equation}\n",
        "\n",
        "\n",
        "- Compute the covariance matrix:\n",
        "\\begin{equation}\n",
        "\\mathbf{K} = \\mathbf{D}_0^T\\mathbf{D}_0\n",
        "\\end{equation}\n",
        "\n",
        "- Compute the eigendecomposition of the covariance matrix:\n",
        "\\begin{equation}\n",
        "\\mathbf{K} = \\mathbf{A} \\mathbf{L} \\mathbf{A}^T\n",
        "\\end{equation}\n",
        "\n",
        "- Sort the eigenvectors in descending order of eigenvalues.\n",
        "\n",
        "- Transform the scaled dataset:\n",
        "\\begin{equation}\n",
        "\\mathbf{Z} = \\mathbf{D}_0 \\mathbf{A}\n",
        "\\end{equation}\n",
        "\n",
        "- The original dataset can be reconstructed as:\n",
        "\n",
        "\\begin{equation}\n",
        "\\mathbf{D} = (\\mathbf{Z} \\mathbf{A}^T)\\mathbf{D}_{\\sigma} + \\mathbf{D}_{\\mu}\n",
        "\\end{equation}"
      ]
    },
    {
      "cell_type": "code",
      "execution_count": 44,
      "metadata": {
        "id": "zU9jZ0NCN_t2",
        "outputId": "8f7383a2-1a84-4c70-b6d6-990a14ea8321",
        "colab": {
          "base_uri": "https://localhost:8080/",
          "height": 449
        }
      },
      "outputs": [
        {
          "output_type": "display_data",
          "data": {
            "text/plain": [
              "<Figure size 640x480 with 1 Axes>"
            ],
            "image/png": "[encoded data removed]"
          },
          "metadata": {}
        }
      ],
      "source": [
        "# To do: center and scale the dataset\n",
        "\n",
        "# Hints:\n",
        "# - Create two empty matrices D_m and D_s with the command np.zeros()\n",
        "D_m = np.zeros_like(D)\n",
        "D_s = np.zeros((n_variables, n_variables))\n",
        "# - Store the mean and the standard deviations in the matrix using a for loop\n",
        "# - Compute the mean and the standard deviation using np.mean() and np.std()\n",
        "for i in range(n_variables):\n",
        "    D_m[:,i] = np.mean(D[:,i])\n",
        "    D_s[i,i] = np.std(D[:,i])\n",
        "# - Compute the inverse of D_s using np.linalg.inv()\n",
        "# - Use the command @ to multiply the matrices\n",
        "D0 = (D-D_m) @ np.linalg.inv(D_s)\n",
        "# - plot the result\n",
        "plt.scatter(D0[:, 0], D0[:, 1], c='k', alpha=0.5)\n",
        "plt.xlabel('x')\n",
        "plt.ylabel('y')\n",
        "plt.show()"
      ]
    },
    {
      "cell_type": "code",
      "execution_count": null,
      "metadata": {
        "id": "-Sw_LG8eN_t2"
      },
      "outputs": [],
      "source": [
        "# To do: compute the covariance matrix\n",
        "\n",
        "# Hint:\n",
        "# - Use the function np.transpose() to transpose the matrix"
      ]
    },
    {
      "cell_type": "code",
      "execution_count": null,
      "metadata": {
        "id": "BITGouDtN_t2"
      },
      "outputs": [],
      "source": [
        "# To do: compute the eigendecomposition of the covariance matrix and sort the eigenvalues and eigenvectors in decreasing order\n",
        "\n",
        "# Hint:\n",
        "# - Use the function np.linalg.eig() to compute the eigendecomposition\n",
        "# - Use np.argsort() to sort the eigenvectors\n"
      ]
    },
    {
      "cell_type": "code",
      "execution_count": null,
      "metadata": {
        "id": "6LuKRQqTN_t3"
      },
      "outputs": [],
      "source": [
        "# To do: compute the transformed dataset\n"
      ]
    },
    {
      "cell_type": "code",
      "execution_count": null,
      "metadata": {
        "id": "FVNe7zpKN_t3"
      },
      "outputs": [],
      "source": [
        "# To do: reconstruct the dataset"
      ]
    },
    {
      "cell_type": "code",
      "execution_count": null,
      "metadata": {
        "id": "-5nlpKrzN_t3"
      },
      "outputs": [],
      "source": [
        "# To do:\n",
        "# - compress the dataset by removing the last PC,\n",
        "# - reconstruct the dataset with the compressed representation"
      ]
    },
    {
      "cell_type": "code",
      "execution_count": null,
      "metadata": {
        "id": "MGoGVb1WN_t3"
      },
      "outputs": [],
      "source": [
        "# To do: create a python function that takes the data as input and computes the PCA, returning Z, L, A as output"
      ]
    },
    {
      "cell_type": "markdown",
      "metadata": {
        "id": "MeHujVIuN_t3"
      },
      "source": [
        "## Singular value decomposition\n",
        "\n",
        "The PCA can be computed also by applying the SVD to the dataset:\n",
        "\\begin{equation}\n",
        "\\mathbf{D}_0 = \\mathbf{U} \\boldsymbol{\\Sigma} \\mathbf{V}^T\n",
        "\\end{equation}\n",
        "\n",
        "in which:\n",
        "- $\\mathbf{A} = \\mathbf{V}$,\n",
        "- $\\mathbf{L} = \\boldsymbol{\\Sigma}^2$,\n",
        "- $\\mathbf{u}_i = \\frac{\\mathbf{z}_i}{||\\mathbf{z}_i||}$"
      ]
    },
    {
      "cell_type": "code",
      "execution_count": null,
      "metadata": {
        "id": "j4Es_Dx4N_t4"
      },
      "outputs": [],
      "source": [
        "# To do: check if this is true\n",
        "\n",
        "# Hint:\n",
        "# - Use np.linalg.svd(D0, full_matrices=False) to compute the svd\n"
      ]
    },
    {
      "cell_type": "markdown",
      "metadata": {
        "id": "GnG-dqQyN_t4"
      },
      "source": [
        "## Scikit-learn\n",
        "\n",
        "Scikit-learn is a python library that contains many machine-learning models, including PCA. It can also handle centering and scaling more naturally. However, we need to install it first because it is not included in Colab."
      ]
    },
    {
      "cell_type": "code",
      "execution_count": null,
      "metadata": {
        "id": "QFX5bcoQN_t4"
      },
      "outputs": [],
      "source": [
        "! pip install scikit-learn"
      ]
    },
    {
      "cell_type": "code",
      "execution_count": null,
      "metadata": {
        "id": "IcTDFBu_N_t4"
      },
      "outputs": [],
      "source": [
        "import sklearn\n",
        "from sklearn.preprocessing import StandardScaler\n",
        "from sklearn.decomposition import PCA\n",
        "\n",
        "# To do: use sklearn to compute PCA\n",
        "\n",
        "# Hint:\n",
        "# - Use StandardScaler to center and scale the data"
      ]
    },
    {
      "cell_type": "markdown",
      "metadata": {
        "id": "Jnzy1uA2N_t5"
      },
      "source": [
        "## A more complex example\n",
        "\n",
        "We now want to apply PCA to the \"wine dataset\". This dataset contains 178 samples with 13 different features. All the wines are categorized in 3 classes."
      ]
    },
    {
      "cell_type": "code",
      "execution_count": null,
      "metadata": {
        "id": "FsbSeiYFN_t5"
      },
      "outputs": [],
      "source": [
        "# Import the dataset\n",
        "from sklearn.datasets import load_wine\n",
        "\n",
        "wine_data = load_wine().data\n",
        "n_samples, n_features = wine_data.shape\n",
        "\n",
        "wine_features = load_wine().feature_names\n",
        "wine_classes = load_wine().target\n",
        "\n",
        "print(wine_data.shape)\n",
        "print(wine_features)\n",
        "print(wine_classes)"
      ]
    },
    {
      "cell_type": "code",
      "execution_count": null,
      "metadata": {
        "id": "wWG8PrjcN_t5"
      },
      "outputs": [],
      "source": [
        "# To do: visualize the dataset\n",
        "\n",
        "# Hint:\n",
        "# - Use plt.scatter() to plot the distribution of 'alcohol' and 'malic_acid'\n",
        "# - Color the scatter using wine_classes\n"
      ]
    },
    {
      "cell_type": "code",
      "execution_count": null,
      "metadata": {
        "id": "RvSjONMTN_t5"
      },
      "outputs": [],
      "source": [
        "# To do: compute the PCA and show the distribution of the explained variance\n",
        "\n",
        "# Hint:\n",
        "# - Use pca.explained_variance_ratio_ to get the explained variance\n",
        "# - Use np.cumsum() to compute the cumulative variance"
      ]
    },
    {
      "cell_type": "code",
      "execution_count": null,
      "metadata": {
        "id": "t5PUjpovN_t5"
      },
      "outputs": [],
      "source": [
        "# To do: visualize the first 2 PCs and color them by the wine class"
      ]
    },
    {
      "cell_type": "code",
      "execution_count": null,
      "metadata": {
        "id": "NyDRPwiXN_t6"
      },
      "outputs": [],
      "source": [
        "# To do: visualise the scores of the PCs\n",
        "\n",
        "# Hint:\n",
        "# - Use plt.bar() to plot a bar plot"
      ]
    },
    {
      "cell_type": "markdown",
      "metadata": {
        "id": "kGYo5YG0N_t6"
      },
      "source": [
        "## Outlier detection\n",
        "\n",
        "We can use PCA to detect probable outliers in a dataset. We consider a toy dataset containing 2 features ($x$ and $y$) and 100 samples. For the first 95 samples, $x$ is in the range $[0, 10]$ and $y = 4x + 2 + \\epsilon$, where $\\epsilon$ is Gaussian noise with $\\mu = 0 $ and $\\sigma = 2.5$. The last 5 points are outliers with $x_{\\mathrm{out}}$ is in the range $[2, 3]$ and $y_{\\mathrm{out}} = 3 x^2 + x + 10 + \\epsilon_{\\mathrm{out}}$, where $\\epsilon_{\\mathrm{out}}$ is Gaussian noise with $\\mu_{\\mathrm{out}} = 0 $ and $\\sigma_{\\mathrm{out}} = 5$"
      ]
    },
    {
      "cell_type": "code",
      "execution_count": null,
      "metadata": {
        "id": "jdV8SVJoN_t6"
      },
      "outputs": [],
      "source": [
        "# First we import the libraries\n",
        "import numpy as np\n",
        "import matplotlib.pyplot as plt\n",
        "import sklearn as sk\n",
        "\n",
        "# To do:\n",
        "# - create 95 correct samples with x in range [0, 10] and y = 4*x + 2 + noise\n",
        "# - create 5 outliers with x_outl in range [2, 3] and y_outl = 3*x_outl**2 + x_outl + 10 + noise_outl\n",
        "\n",
        "\n",
        "# Hint:\n",
        "# - to create a evenly spaced array, you can use the function np.linspace(start, stop, n_points)\n",
        "# - to create the noise array, you can use the function np.random.normal(mu, sigma, size=n_points)\n",
        "\n",
        "# this command is used to set a fixed seed for random sampling,\n",
        "# so that we have the same result when re-running the code.\n",
        "np.random.seed(1)"
      ]
    },
    {
      "cell_type": "code",
      "execution_count": null,
      "metadata": {
        "id": "SIIhZaaoN_t6"
      },
      "outputs": [],
      "source": [
        "# To do:\n",
        "# - Create an empty matrix D of size (n_points + n_outl, 2)\n",
        "# - Put the true values and the outliers in the matrix, using column 0 for x and column 1 for y\n",
        "\n",
        "# Hint:\n",
        "# - You can use the function np.empty((n, 2)) to create an empty matrix\n",
        "# - You can use np.concatenate([a, b]) to concatenate vector a and b\n"
      ]
    },
    {
      "cell_type": "code",
      "execution_count": null,
      "metadata": {
        "id": "YunqROKeN_t6"
      },
      "outputs": [],
      "source": [
        "from sklearn.decomposition import PCA\n",
        "\n",
        "# To do:\n",
        "# - Center and scale the matrix D\n",
        "# - Perform PCA\n",
        "# - Plot the scores\n",
        "\n",
        "# Hints:\n",
        "# - To center the matrix D, subtract the mean of each column from each column\n",
        "# - To scale the matrix D, divide each column of the centered matrix by the standard deviation of each column"
      ]
    },
    {
      "cell_type": "markdown",
      "metadata": {
        "id": "mToPrXO5N_t8"
      },
      "source": [
        "To find the outliers, we build a classifier using the 2nd PC. To do that, we compute the empirical cumulative distribution function (ecdf) of PC scores squared divided by the corresponding eigenvalue (Mahalanobis distance):\n",
        "\n",
        "\\begin{equation}\n",
        "d_{M, i} = \\frac{z^2_{i,2}}{l_2}\n",
        "\\end{equation}\n",
        "\n",
        "\\begin{equation}\n",
        "\\mathrm{edfc}(t) = \\sum_{j = 1}^k d_{M, j} < t\n",
        "\\end{equation}"
      ]
    },
    {
      "cell_type": "code",
      "execution_count": null,
      "metadata": {
        "id": "9_LbZxpnN_t8"
      },
      "outputs": [],
      "source": [
        "# To do:\n",
        "# - Calculate the Mahalanobis distance using PC2\n",
        "# - Compute the cumulative distribution\n",
        "# - Set a threshold\n",
        "\n",
        "def ecdf(pc):\n",
        "    i_sort = np.argsort(pc)\n",
        "    pc_sort = pc[i_sort]\n",
        "    dist_sort = np.arange(1, pc_sort.size+1)/pc_sort.size\n",
        "    return i_sort, pc_sort, dist_sort\n",
        "\n",
        "# i_sort, pc2_sort, dist_sort = ecdf(dm_pc2)\n",
        "# threshold = 0.95"
      ]
    },
    {
      "cell_type": "code",
      "execution_count": null,
      "metadata": {
        "id": "gMAJPRb9N_t9"
      },
      "outputs": [],
      "source": [
        "# To do:\n",
        "# - Apply the threshold to find the outliers"
      ]
    }
  ],
  "metadata": {
    "kernelspec": {
      "display_name": "env_ml2",
      "language": "python",
      "name": "python3"
    },
    "language_info": {
      "codemirror_mode": {
        "name": "ipython",
        "version": 3
      },
      "file_extension": ".py",
      "mimetype": "text/x-python",
      "name": "python",
      "nbconvert_exporter": "python",
      "pygments_lexer": "ipython3",
      "version": "3.9.16"
    },
    "colab": {
      "provenance": []
    }
  },
  "nbformat": 4,
  "nbformat_minor": 0
}